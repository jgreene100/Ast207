{
  "cells": [
    {
      "cell_type": "markdown",
      "id": "ef292495",
      "metadata": {
        "id": "ef292495"
      },
      "source": [
        "#  Lightcurves, transits, and TESS! Oh My!\n"
      ]
    },
    {
      "cell_type": "markdown",
      "id": "0144966d",
      "metadata": {
        "id": "0144966d"
      },
      "source": [
        "### Step 0: imports (Read the comment below please. You'll need to import a new package)"
      ]
    },
    {
      "cell_type": "code",
      "execution_count": null,
      "id": "qvGVdnzXv0T-",
      "metadata": {
        "id": "qvGVdnzXv0T-"
      },
      "outputs": [],
      "source": [
        "# Run this once to install a python package for downloading lightcurves from the TESS mission (include the exclamation point)\n",
        "# ! python -m pip install lightkurve --upgrade"
      ]
    },
    {
      "cell_type": "code",
      "execution_count": null,
      "id": "9ea49ed6",
      "metadata": {
        "id": "9ea49ed6"
      },
      "outputs": [],
      "source": [
        "# these should be familar\n",
        "import scipy\n",
        "import numpy as np\n",
        "import pandas as pd\n",
        "\n",
        "import matplotlib\n",
        "import matplotlib.pyplot as plt\n",
        "\n",
        "# this package will allow us to make progress bars\n",
        "from tqdm import tqdm\n",
        "\n",
        "# We can beautify our plots by changing the matpltlib setting a little\n",
        "plt.rcParams['font.size'] = 18\n",
        "matplotlib.rcParams['axes.linewidth'] = 2\n",
        "matplotlib.rcParams['font.family'] = \"serif\""
      ]
    },
    {
      "cell_type": "markdown",
      "id": "0b795d62",
      "metadata": {
        "id": "0b795d62"
      },
      "source": [
        "# Step 1: loading data from the TESS mission\n",
        "\n",
        "\n",
        "The function below uses the python package `lightkurve` to load data from the TESS mission. To search for exoplanets, TESS takes pictures of a patch of the sky once every 2 minutes. The function `load_TESS_data` takes in the name of a star and the size of image cutout we want to downdload (centered on the star)."
      ]
    },
    {
      "cell_type": "code",
      "execution_count": null,
      "id": "93006c4f",
      "metadata": {
        "id": "93006c4f"
      },
      "outputs": [],
      "source": [
        "# this function downloades TESS lightcurves (I recommend we supply this function\n",
        "# and have the student's use it as a black box)\n",
        "\n",
        "def load_TESS_data(target, cutout_size=20, verbose=False, exptime=None):\n",
        "    \"\"\"\n",
        "    Download TESS images for a given target.\n",
        "\n",
        "    inputs:\n",
        "        target: str, same of star (ex. TOI-700)\n",
        "        cutout_size: int, size of the returned cutout\n",
        "                     (in units of pixels)\n",
        "        verbose: bool, controls whether to include printouts\n",
        "        exptime: str, determines if we use short or long cadence mode\n",
        "                 (if None, defaults to first observing semester)\n",
        "    outputs:\n",
        "        time: numpy 1D array\n",
        "        flux: numpy 3D array (time x cutout_size x cutout_size)\n",
        "    \"\"\"\n",
        "\n",
        "    import lightkurve as lk\n",
        "\n",
        "    # find all available data\n",
        "    search_result = lk.search_tesscut(target)\n",
        "    if exptime == 'short':\n",
        "        search_result = search_result[search_result.exptime.value==search_result.exptime.value.min()]\n",
        "    elif exptime == 'long':\n",
        "        search_result = search_result[search_result.exptime.value==search_result.exptime.value.max()]\n",
        "    print(search_result)\n",
        "\n",
        "    # select the first available observing sector\n",
        "    if exptime:\n",
        "        search_result = search_result[search_result.exptime == exptime]\n",
        "    search_result = search_result[search_result.mission == search_result.mission[0]]\n",
        "\n",
        "    # download it\n",
        "    tpf = search_result.download_all(cutout_size=cutout_size)[0]\n",
        "\n",
        "    # convert it to a numpy array format\n",
        "    flux = np.array([\n",
        "        tpf.flux[i].value for i in range(len(tpf.flux)) if tpf.flux[i].value.min()>0\n",
        "    ])\n",
        "    flux_err = np.array([\n",
        "        tpf.flux_err[i].value for i in range(len(tpf.flux_err)) if tpf.flux[i].value.min()>0\n",
        "    ])\n",
        "\n",
        "    time = np.array([\n",
        "        tpf.time.value[i] for i in range(len(tpf.flux)) if tpf.flux[i].value.min()>0\n",
        "                    ])\n",
        "\n",
        "    return time, flux, flux_err"
      ]
    },
    {
      "cell_type": "markdown",
      "id": "0b3f1cf4",
      "metadata": {
        "id": "0b3f1cf4"
      },
      "source": [
        "**Exercise:** Run the code below to load all the TESS data for one small patch of the sky. We'll center our images on a single variable star."
      ]
    },
    {
      "cell_type": "code",
      "execution_count": null,
      "id": "6382865e",
      "metadata": {
        "colab": {
          "base_uri": "https://localhost:8080/"
        },
        "id": "6382865e",
        "outputId": "5f9f6094-409c-422d-e56f-b0db6d565a83",
        "scrolled": false
      },
      "outputs": [
        {
          "output_type": "stream",
          "name": "stdout",
          "text": [
            "SearchResult containing 4 data products.\n",
            "\n",
            " #     mission     year  author exptime        target_name         distance\n",
            "                                   s                                arcsec \n",
            "--- -------------- ---- ------- ------- -------------------------- --------\n",
            "  0 TESS Sector 19 2019 TESScut    1426 Gaia_DR2279382060625871360      0.0\n",
            "  1 TESS Sector 59 2022 TESScut     158 Gaia_DR2279382060625871360      0.0\n",
            "  2 TESS Sector 73 2023 TESScut     158 Gaia_DR2279382060625871360      0.0\n",
            "  3 TESS Sector 86 2024 TESScut     158 Gaia_DR2279382060625871360      0.0\n"
          ]
        }
      ],
      "source": [
        "target = 'Gaia_DR2279382060625871360'\n",
        "cutout_size = 20 # dimensions of the image in pixels x pixels\n",
        "time, flux, flux_err = load_TESS_data(target,verbose=True,cutout_size=cutout_size)"
      ]
    },
    {
      "cell_type": "markdown",
      "id": "1abdd8e1",
      "metadata": {
        "id": "1abdd8e1"
      },
      "source": [
        "**Exercise:** Run the code below to plot the mean of the TESS cutouts."
      ]
    },
    {
      "cell_type": "code",
      "execution_count": null,
      "id": "7cf0d156",
      "metadata": {
        "id": "7cf0d156"
      },
      "outputs": [],
      "source": [
        "def plot_cutout(image, logscale = False, vrange = [1,99]):\n",
        "    \"\"\"\n",
        "    Plot 2D image.\n",
        "\n",
        "    inputs:\n",
        "        image: 2D numpy array\n",
        "        logscale: bool, if True plots np.log10(image)\n",
        "        vrnge: list, sets range of colorbar\n",
        "               (based on percentiles of 'image')\n",
        "    \"\"\"\n",
        "    if logscale:\n",
        "        image = np.log10(image)\n",
        "\n",
        "    q = np.percentile(image, q = vrange)\n",
        "    plt.imshow( image, vmin = q[0], vmax = q[1] )\n",
        "    plt.show()"
      ]
    },
    {
      "cell_type": "code",
      "execution_count": null,
      "id": "5f6dbc9c",
      "metadata": {
        "colab": {
          "base_uri": "https://localhost:8080/",
          "height": 439
        },
        "id": "5f6dbc9c",
        "outputId": "9e68dce9-eeaf-4efc-ea92-b6abfff9042e"
      },
      "outputs": [
        {
          "output_type": "display_data",
          "data": {
            "text/plain": [
              "<Figure size 640x480 with 1 Axes>"
            ],
            "image/png": "[encoded data removed]"
          },
          "metadata": {}
        }
      ],
      "source": [
        "# linear scale\n",
        "plot_cutout(np.mean(flux,axis=0))"
      ]
    },
    {
      "cell_type": "markdown",
      "id": "jzF6-JHwzF9L",
      "metadata": {
        "id": "jzF6-JHwzF9L"
      },
      "source": [
        "**Exercise:** Now use the same function to plot the mean TESS cutout with `logscale=True`. How many stars to do see in our cutout? How might this make searching for planets complicated?"
      ]
    },
    {
      "cell_type": "code",
      "execution_count": null,
      "id": "c38ccd1a",
      "metadata": {
        "id": "c38ccd1a"
      },
      "outputs": [],
      "source": [
        "# answer here"
      ]
    },
    {
      "cell_type": "markdown",
      "id": "76827048",
      "metadata": {
        "id": "76827048"
      },
      "source": [
        "# Step 2: Make a lightcurve\n",
        "\n",
        "We want to measure the flux of the star in each image. We can then see how the star's flux changes with time. This allows us to study binary stars, exoplanets, and stellar pulsations (like Earthquakes but on stars). Let's start with the simplest option: taking the sum all pixels in image.\n",
        "\n",
        "**Exercise:** Plot the total flux in each cutout as a function of time. Be sure to label your plot."
      ]
    },
    {
      "cell_type": "code",
      "execution_count": null,
      "id": "970d9576",
      "metadata": {
        "id": "970d9576"
      },
      "outputs": [],
      "source": [
        "# answer here"
      ]
    },
    {
      "cell_type": "markdown",
      "id": "dab0bb00",
      "metadata": {
        "id": "dab0bb00"
      },
      "source": [
        "We can see this area of the sky is populated by more than one star (this is especially clear when we plot in log scale). This is very common occurance.\n",
        "\n",
        "Because the image includes more than one star, simply taking the sum of all pixels in the image will not give us a very accurate number for the flux of the star we're intersted in. We also have to be careful about the background flux changing with time due to instrumental systematics."
      ]
    },
    {
      "cell_type": "markdown",
      "id": "d408d096",
      "metadata": {
        "id": "d408d096"
      },
      "source": [
        "A common method of overcoming these challenges is fitting the image with a two component model: background + star.\n",
        "\n",
        "Since the star is being 'blurred' by the point spread function of TESS, we can reasonably model the star as a 2-dimensional Gaussian.\n",
        "\n",
        "To keep things simple, let's assume a uniform background."
      ]
    },
    {
      "cell_type": "markdown",
      "id": "w_MrIqKW0J8j",
      "metadata": {
        "id": "w_MrIqKW0J8j"
      },
      "source": [
        "**Exercise:** Using the function below, plot a 2-d gaussian with the `plot_cutout` function. Set `mu=0, bkg=0, xmu=0, ymu=0`. Since we are plotting a 2-d gaussian, we need to create a grid of `x,y` values. Use the code below, which turns 1-d arrays of x and y into a 2-d grid of x and y."
      ]
    },
    {
      "cell_type": "code",
      "execution_count": null,
      "id": "ynK2Srdp1IcK",
      "metadata": {
        "id": "ynK2Srdp1IcK"
      },
      "outputs": [],
      "source": [
        "x = np.linspace(-5,5,50)\n",
        "y = np.linspace(-5,5,50)\n",
        "X, Y = np.meshgrid(x, y)"
      ]
    },
    {
      "cell_type": "code",
      "execution_count": null,
      "id": "52812fc0",
      "metadata": {
        "id": "52812fc0"
      },
      "outputs": [],
      "source": [
        "def psf(x,y,sigma,scale,bkg,xmu=0,ymu=0,unravel=False):\n",
        "    \"\"\"\n",
        "    Symmetric 2D point-spread function (PSF)\n",
        "\n",
        "    inputs:\n",
        "        x: np.ndarray, where to evaluate the PSF\n",
        "        y: np.ndarray, where to evaluate the PSF\n",
        "        sigma: float, width of the PDF\n",
        "        scale: float, integrated area under the PSF\n",
        "        bkg: float, background flux level\n",
        "        xmu: float, center of PSF in x\n",
        "        ymu: float, center of PSF in y\n",
        "    outputs:\n",
        "        PSF evalauted at x and y\n",
        "    \"\"\"\n",
        "    exponent = (np.power(x-xmu,2) + np.power(y-ymu,2) ) / sigma**2\n",
        "\n",
        "    mod = scale * np.exp(-exponent) / (2*np.pi*sigma**2) + bkg\n",
        "    if unravel:\n",
        "        return mod.ravel()\n",
        "    else:\n",
        "        return mod"
      ]
    },
    {
      "cell_type": "code",
      "execution_count": null,
      "id": "f5f27f34",
      "metadata": {
        "colab": {
          "base_uri": "https://localhost:8080/",
          "height": 444
        },
        "id": "f5f27f34",
        "outputId": "08cacf0f-ed20-4cbc-d40a-395124ac4b7c"
      },
      "outputs": [
        {
          "output_type": "display_data",
          "data": {
            "text/plain": [
              "<Figure size 640x480 with 1 Axes>"
            ],
            "image/png": "[encoded data removed]"
          },
          "metadata": {}
        }
      ],
      "source": [
        "Z = psf(X,Y,sigma=1,scale=1,bkg=0,xmu=0,ymu=0)\n",
        "\n",
        "plot_cutout(Z,logscale=False)"
      ]
    },
    {
      "cell_type": "markdown",
      "id": "1694e634",
      "metadata": {
        "id": "1694e634"
      },
      "source": [
        "We now have the ingredients for our model. To fit our model we need to quantify 'goodness of fit.'\n",
        "\n",
        "**Exercise:** Run the code below to evaluate the residual between the first TESS cutout and our model."
      ]
    },
    {
      "cell_type": "code",
      "execution_count": null,
      "id": "c38f1b0c",
      "metadata": {
        "id": "c38f1b0c"
      },
      "outputs": [],
      "source": [
        "def residual(theta, x, y, z, z_err):\n",
        "    sigma, scale, bkg, xmu, ymu = theta\n",
        "\n",
        "    model = psf(x,y,sigma=sigma,scale=scale,bkg=bkg,xmu=xmu,ymu=ymu)\n",
        "\n",
        "    chi = np.power(model - z,2)/z_err**2\n",
        "\n",
        "    return np.sum(chi)"
      ]
    },
    {
      "cell_type": "code",
      "execution_count": null,
      "id": "97f4443e",
      "metadata": {
        "id": "97f4443e"
      },
      "outputs": [],
      "source": [
        "# where to evaluate our PSF\n",
        "x = np.arange(flux.shape[1])\n",
        "y = np.arange(flux.shape[2])\n",
        "X,Y = np.meshgrid(x,y)"
      ]
    },
    {
      "cell_type": "code",
      "execution_count": null,
      "id": "6f2b8d84",
      "metadata": {
        "colab": {
          "base_uri": "https://localhost:8080/"
        },
        "id": "6f2b8d84",
        "outputId": "1c4b4763-f3cd-4e35-cf54-0b2975d6f2c1"
      },
      "outputs": [
        {
          "output_type": "execute_result",
          "data": {
            "text/plain": [
              "np.float64(415386221.45279515)"
            ]
          },
          "metadata": {},
          "execution_count": 19
        }
      ],
      "source": [
        "# lets evaluate the model for a set of parameters\n",
        "theta = [\n",
        "    1,  # sigma\n",
        "    200,  # scale\n",
        "    0,  # bkg\n",
        "    cutout_size/2, # xmu\n",
        "    cutout_size/2, # ymu\n",
        "]\n",
        "\n",
        "residual(theta, X, Y, flux[0]/np.mean(flux), flux_err[0]/np.mean(flux))"
      ]
    },
    {
      "cell_type": "markdown",
      "id": "c4ff36d0",
      "metadata": {
        "id": "c4ff36d0"
      },
      "source": [
        "Using our residual function, we can now ask: what parameters (like stellar flux) best fit the image? To give some intuition, let's start with a simple grid search.\n",
        "\n",
        "**Exercise:** For `0 < scale < 1000` calculate `residual`. Then plot `scale` vs. `residual`. Set `sigma=1, bkg =1, xmu=cutout_size/2, ymu=cutout_size/2`."
      ]
    },
    {
      "cell_type": "code",
      "source": [
        "# answer here"
      ],
      "metadata": {
        "id": "xdmOG9dtixHW"
      },
      "id": "xdmOG9dtixHW",
      "execution_count": null,
      "outputs": []
    },
    {
      "cell_type": "markdown",
      "id": "Ns9yKtk02PLt",
      "metadata": {
        "id": "Ns9yKtk02PLt"
      },
      "source": [
        "**Exercise:** Based on the above plot, what `scale` gives the best fit?"
      ]
    },
    {
      "cell_type": "markdown",
      "source": [
        "answer here"
      ],
      "metadata": {
        "id": "qXZKO3nji45G"
      },
      "id": "qXZKO3nji45G"
    },
    {
      "cell_type": "markdown",
      "id": "92ede21a",
      "metadata": {
        "id": "92ede21a"
      },
      "source": [
        "Above, we found the best fit flux (what we call `scale` in our function) for a single TESS cutout. To make a lightcurve we need to repeat that process for each image.\n",
        "\n",
        "**Exercise:** For each cutout, find the `scale` that minimizes `residual` (search for `0 < scale < 1000`). Like above, set `sigma=1, bkg =1, xmu=cutout_size/2, ymu=cutout_size/2`. Plot the best fit `scale` vs. time to make our lightcurve. Plot our simple \"summed\" lightcurve for comparison."
      ]
    },
    {
      "cell_type": "code",
      "execution_count": null,
      "id": "f63bf51b",
      "metadata": {
        "id": "f63bf51b"
      },
      "outputs": [],
      "source": [
        "# answer here"
      ]
    },
    {
      "cell_type": "markdown",
      "id": "pL3ebbuB8zPY",
      "metadata": {
        "id": "pL3ebbuB8zPY"
      },
      "source": [
        "**Exercise:** What are the differences between our \"grid-search\" and \"sum\" light curves? What might be the reason(s)?"
      ]
    },
    {
      "cell_type": "markdown",
      "source": [
        "answer here"
      ],
      "metadata": {
        "id": "R8QSrPAwjHEx"
      },
      "id": "R8QSrPAwjHEx"
    },
    {
      "cell_type": "markdown",
      "id": "bd3194a3",
      "metadata": {
        "id": "bd3194a3"
      },
      "source": [
        "We've made a lightcurve! And we can clearly see by eye that the star is variable (it's flux is changing with time). However, our approach is still a little too simple. While we are optimizing the `scale` parameter, we've left all the other model parameters fixed.\n",
        "\n",
        "As we discussed in class, we can optimize all the parameters of model using `scipy.optimize.minimize`. This is much much faster than trying a grid search across all the parameters at once.\n",
        "\n",
        "**Exercise:** Using `scipy.optimize.minimize` find the best-fit `scale` for each TESS cutout. Plot the resulting lightcurve alongside out \"grid-search\" and \"sum\" lightcurves.\n",
        "\n",
        "You'll want to try searching in these ranges: (.1,5) for `sigma`, (0,1000) for `scale`, (0,10) for `bkg`, (5,15) for `xmu` and `ymu`."
      ]
    },
    {
      "cell_type": "code",
      "execution_count": null,
      "id": "6ef84224",
      "metadata": {
        "id": "6ef84224"
      },
      "outputs": [],
      "source": [
        "# answer here"
      ]
    }
  ],
  "metadata": {
    "colab": {
      "provenance": []
    },
    "kernelspec": {
      "display_name": "Python 3 (ipykernel)",
      "language": "python",
      "name": "python3"
    },
    "language_info": {
      "codemirror_mode": {
        "name": "ipython",
        "version": 3
      },
      "file_extension": ".py",
      "mimetype": "text/x-python",
      "name": "python",
      "nbconvert_exporter": "python",
      "pygments_lexer": "ipython3",
      "version": "3.11.5"
    }
  },
  "nbformat": 4,
  "nbformat_minor": 5
}