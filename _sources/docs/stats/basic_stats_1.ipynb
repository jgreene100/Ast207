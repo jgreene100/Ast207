{
 "cells": [
  {
   "cell_type": "markdown",
   "id": "419c9dd2-9ae7-48fe-9565-f664a2338b5d",
   "metadata": {},
   "source": [
    "# Basic Statistics (Part 1)\n",
    "\n",
    "**Prerequisite:**\n",
    "- None\n",
    "\n",
    "\n",
    "**We will learn:**\n",
    "\n",
    "- Random variable (RV), how to generate random numbers in $\\texttt{python}$\n",
    "- Basic statistics (mean, median, standard deviation)\n",
    "- Histograms\n",
    "\n",
    "\n",
    "A good reference: [A Beginner Guide to Astro-Statistics and Astro-Machine-Learning, by Yuan-Sen Ting](https://computeastro.streamlit.app/)"
   ]
  },
  {
   "cell_type": "code",
   "execution_count": 2,
   "id": "2755b663-a81f-459d-9693-58ce423f785e",
   "metadata": {},
   "outputs": [],
   "source": [
    "# Let's start with importing our packages\n",
    "import numpy as np\n",
    "import scipy\n",
    "import matplotlib\n",
    "import matplotlib.pyplot as plt\n",
    "\n",
    "# We can beautify our plots by changing the matpltlib setting a little\n",
    "plt.rcParams['font.size'] = 18\n",
    "plt.rcParams['axes.linewidth'] = 2"
   ]
  },
  {
   "cell_type": "markdown",
   "id": "c2cfd8a5-8b0a-4f6a-a948-0e323f1855f5",
   "metadata": {},
   "source": [
    "## 1. Random variable, histogram, probability"
   ]
  },
  {
   "cell_type": "markdown",
   "id": "bf46c5bc-19f2-4b71-a579-55100d78f39c",
   "metadata": {},
   "source": [
    "Let's look at a cubic die with faces numbered from 1 to 6. When you roll a die once, you write down the number on the top (e.g., 4). Then when you roll it again, you might see a different number (e.g., 2). You can repeat this many times, and you will probably see all six numbers. An event such as a die roll is called a **random event**. The outcome of a die roll is a **random variable**. Let's denote the random variable of a die roll as $X$, so the value of $X$ must be in $\\{1, 2, 3, 4, 5, 6\\}$. One must realize that a random variable is a variable -- it can have different values $x$ when repeating the random event. \n"
   ]
  },
  {
   "cell_type": "markdown",
   "id": "2e17c49a-1933-4d31-a167-2b1cd46342c3",
   "metadata": {},
   "source": [
    "Let's use Python to generate random numbers to get a sense of rolling a \"fair\" die. `np.random.randint` (or `scipy.stats.randint`) provides a nice function to generate a random variable that is an integer between 1 and 6."
   ]
  },
  {
   "cell_type": "code",
   "execution_count": 3,
   "id": "e1dc0e2f-b6f5-4d80-a7d4-80542df7fe95",
   "metadata": {},
   "outputs": [
    {
     "name": "stdout",
     "output_type": "stream",
     "text": [
      "1\n"
     ]
    }
   ],
   "source": [
    "# run this cell many times, as if you are rolling a die\n",
    "print(np.random.randint(low=1, high=6+1)) # notice that `high` is one plus the highest number of our random variable. This trick is common in python."
   ]
  },
  {
   "cell_type": "markdown",
   "id": "eb71ea8e-cb52-4b7b-9510-08575f2c504f",
   "metadata": {},
   "source": [
    "Now you see what a random variable looks like. Shall we roll a die for 100 times and record all the outcomes?"
   ]
  },
  {
   "cell_type": "code",
   "execution_count": 4,
   "id": "af1fbb98-eb63-40ac-9d92-a43dfcb6fb09",
   "metadata": {},
   "outputs": [],
   "source": [
    "N_roll = 100\n",
    "outcomes = []\n",
    "for i in range(N_roll): # do the following operation for 100 times\n",
    "    outcomes.append(np.random.randint(low=1, high=6+1))\n",
    "outcomes = np.array(outcomes)"
   ]
  },
  {
   "cell_type": "code",
   "execution_count": 5,
   "id": "db5043d9-6cc4-4169-bf89-d1d34cb48093",
   "metadata": {},
   "outputs": [
    {
     "data": {
      "text/plain": [
       "array([1, 4, 3, 4, 2, 2, 3, 6, 1, 2, 3, 4, 1, 5, 3, 1, 6, 2, 3, 1, 3, 4,\n",
       "       4, 5, 2, 4, 2, 3, 1, 1, 1, 6, 2, 5, 2, 5, 2, 3, 6, 1, 1, 3, 3, 6,\n",
       "       4, 2, 5, 3, 1, 1, 6, 3, 6, 1, 5, 4, 2, 6, 5, 6, 4, 6, 3, 3, 5, 3,\n",
       "       6, 2, 5, 4, 5, 4, 6, 3, 2, 1, 1, 3, 6, 1, 1, 2, 2, 1, 6, 4, 5, 5,\n",
       "       5, 2, 3, 6, 3, 3, 3, 6, 5, 2, 2, 6])"
      ]
     },
     "execution_count": 5,
     "metadata": {},
     "output_type": "execute_result"
    }
   ],
   "source": [
    "outcomes"
   ]
  },
  {
   "cell_type": "markdown",
   "id": "bec8ba36-a53e-489e-8c48-f47a424d4d37",
   "metadata": {},
   "source": [
    "Here we use a list `outcomes` to store the outcome from each roll. The `for` loop is used to repeat the die roll for `N_roll` times. It is a good practice to define variables like `N_roll` in your code, because if you want to change the number of dice rolls to 10000, you can just change `N_roll = 10000` without touching other code. The benefit of this practice will manifest itself as we go on in this course. Also, it is usually more convenient to work with numpy arrays than python lists. "
   ]
  },
  {
   "cell_type": "markdown",
   "id": "b5bc022e-48d3-4391-8f20-3223a460c668",
   "metadata": {},
   "source": [
    "Our next task is to check the frequency of the outcome being each number between 1 and 6. "
   ]
  },
  {
   "cell_type": "code",
   "execution_count": 6,
   "id": "e9cf3bbe-1925-41ba-9ed2-063b695fc8d9",
   "metadata": {},
   "outputs": [
    {
     "data": {
      "text/plain": [
       "18"
      ]
     },
     "execution_count": 6,
     "metadata": {},
     "output_type": "execute_result"
    }
   ],
   "source": [
    "np.sum(outcomes == 1) # this shows the frequency of \"1\" in the 100 rolls"
   ]
  },
  {
   "cell_type": "code",
   "execution_count": 7,
   "id": "b69b3744-0c53-46d8-b10b-cc4c5e2a6f5e",
   "metadata": {},
   "outputs": [
    {
     "data": {
      "text/plain": [
       "12"
      ]
     },
     "execution_count": 7,
     "metadata": {},
     "output_type": "execute_result"
    }
   ],
   "source": [
    "np.sum(outcomes == 4) # this shows the frequency of \"4\" in the 100 rolls"
   ]
  },
  {
   "cell_type": "code",
   "execution_count": 8,
   "id": "fd76fd99-d33a-4ad6-b653-29051c1a3d33",
   "metadata": {},
   "outputs": [
    {
     "name": "stdout",
     "output_type": "stream",
     "text": [
      "The frequency of 1 is 18\n",
      "The frequency of 2 is 18\n",
      "The frequency of 3 is 21\n",
      "The frequency of 4 is 12\n",
      "The frequency of 5 is 14\n",
      "The frequency of 6 is 17\n"
     ]
    }
   ],
   "source": [
    "# Let's use the for loop again\n",
    "for i in range(1, 6+1):\n",
    "    print(f'The frequency of {i} is', np.sum(outcomes == i))"
   ]
  },
  {
   "cell_type": "markdown",
   "id": "9b11eada-a30a-4bea-ba87-190ff6472226",
   "metadata": {},
   "source": [
    "Again, `numpy` provides shortcut functions to do this:"
   ]
  },
  {
   "cell_type": "code",
   "execution_count": 9,
   "id": "d1aa2472-c6b4-4f05-b17b-289c4a211e6f",
   "metadata": {},
   "outputs": [
    {
     "name": "stdout",
     "output_type": "stream",
     "text": [
      "[1 2 3 4 5 6] [18 18 21 12 14 17]\n",
      "[(1, 18), (2, 18), (3, 21), (4, 12), (5, 14), (6, 17)]\n"
     ]
    }
   ],
   "source": [
    "values, counts = np.unique(outcomes, return_counts=True)\n",
    "print(values, counts)\n",
    "print(list(zip(values, counts)))"
   ]
  },
  {
   "cell_type": "markdown",
   "id": "255626ae-a26f-4fc6-97c4-0506c59428f1",
   "metadata": {},
   "source": [
    "Histogram is a good tool to visualize this result"
   ]
  },
  {
   "cell_type": "code",
   "execution_count": 10,
   "id": "edf83700-10d5-460e-9e8b-251512d36344",
   "metadata": {},
   "outputs": [
    {
     "data": {
      "image/png": "[encoded data removed]",
      "text/plain": [
       "<Figure size 640x480 with 1 Axes>"
      ]
     },
     "metadata": {},
     "output_type": "display_data"
    }
   ],
   "source": [
    "plt.hist(outcomes, bins=np.arange(1, 6+2) - 0.5, histtype='bar', rwidth=0.4)\n",
    "plt.xlabel('Outcome')\n",
    "plt.ylabel('Frequency')\n",
    "plt.title(f'Number of rolls: {N_roll}');"
   ]
  },
  {
   "cell_type": "markdown",
   "id": "2f726c8e-9712-4415-ab7c-1773fe259466",
   "metadata": {},
   "source": [
    "Is the die fair? Seems **no** from the figure above, because the frequencies of all numbers are not the same. This contradicts our assumption of using `np.random.randint` where the outcomes should be random. What's happening here? Let's calculate the chance of the outcome being each number:"
   ]
  },
  {
   "cell_type": "code",
   "execution_count": 11,
   "id": "e429b5ab-3349-42bf-8b9c-4c70964b6da0",
   "metadata": {},
   "outputs": [
    {
     "name": "stdout",
     "output_type": "stream",
     "text": [
      "[0.18 0.18 0.21 0.12 0.14 0.17]\n"
     ]
    }
   ],
   "source": [
    "chances = counts / N_roll\n",
    "print(chances)"
   ]
  },
  {
   "cell_type": "markdown",
   "id": "14f28012-67da-4a74-8e7a-5ebafc255cb2",
   "metadata": {},
   "source": [
    "If the die is fair, the chances should all be 1/6 = 0.1667. We see that the `chances` are not exactly 0.1667, but quite close. In math, this \"chance\" is called \"probability\". "
   ]
  },
  {
   "cell_type": "markdown",
   "id": "18bfeacf-0b73-48e3-a38e-6303b9282ac2",
   "metadata": {},
   "source": [
    "### Exercise 1\n",
    "Let's increase `N_roll` to 10000, repeat the above exercise again and plot the histogram. In `plt.hist` function, you can turn on `density=True` to plot the \"normalized frequency\" (each frequency divided by the sum of all frequencies, i.e., total number of rolls). The normalized frequencies should be very close to the probability 1/6 (red dashed line).\n",
    "\n",
    "The purpose is to acknowledge an important thing: the conclusion is subject to statistical uncertainty when the sample size is too small."
   ]
  },
  {
   "cell_type": "code",
   "execution_count": 12,
   "id": "e2964675-a4cb-4a30-9d3a-8d72c24f5259",
   "metadata": {
    "vscode": {
     "languageId": "raw"
    }
   },
   "outputs": [],
   "source": [
    "## Your answer here"
   ]
  },
  {
   "cell_type": "markdown",
   "id": "706d12e2-bb7e-43ed-98f2-733bf2166a0c",
   "metadata": {},
   "source": [
    "---"
   ]
  },
  {
   "cell_type": "markdown",
   "id": "9e6c6420-7856-4009-806f-61bcd14cbc93",
   "metadata": {},
   "source": [
    "## 2. Mean, Median, Standard Deviation\n",
    "\n",
    "These are the most useful statistics and are of great importance in astronomical data. If we have a set of data $\\{x_1, x_2, \\dots, x_{n}\\}$, these statistics are defined to be:\n",
    "\n",
    "- Mean: $\\overline{x} = \\dfrac{1}{n}(x_1 + x_2 + \\cdots + x_n) = \\dfrac{\\sum_i x_i}{n}$\n",
    "\n",
    "- Median: \"the middle number\". This is found by ordering all data and picking out the one in the middle (or if there are two middle numbers, taking the mean of those two numbers)\n",
    "\n",
    "- Standard deviation: it measures how dispersed the data is $\\sigma = \\sqrt{\\dfrac{\\sum_i(x_i - \\overline{x})^2}{n}}$.\n",
    "\n",
    "- Variance: it is typically the square of standard deviation, $\\sigma^2$. \n",
    "\n",
    "> Someone uses $1/(n-1)$ instead of $1/n$ in the definition of standard deviation. This is a correction known as [Bessel's correction](https://en.wikipedia.org/wiki/Bessel%27s_correction). It accounts for the fact that when we calculate the sample variance, we've already used one degree of freedom to estimate the mean. Since the deviations from the mean must sum to zero, once we know $n-1$ of the deviations, the last one is determined. This makes our variance estimate biased if we use $1/n$. Using $1/(n-1)$ gives us an **unbiased** estimator of the true population variance."
   ]
  },
  {
   "cell_type": "markdown",
   "id": "00cdb9d2",
   "metadata": {},
   "source": [
    "Let's generate some data by sampling from a **[uniform distribution](https://en.wikipedia.org/wiki/Continuous_uniform_distribution)** from 0 to 1, and calculate their mean, median, and standard deviation."
   ]
  },
  {
   "cell_type": "code",
   "execution_count": 13,
   "id": "745335ae",
   "metadata": {},
   "outputs": [],
   "source": [
    "# sample from a uniform distribution U(0, 1)\n",
    "n_sample = 200 # sample size\n",
    "data = np.random.uniform(0, 1, size=(n_sample,))"
   ]
  },
  {
   "cell_type": "code",
   "execution_count": 14,
   "id": "417c73b7",
   "metadata": {},
   "outputs": [
    {
     "name": "stdout",
     "output_type": "stream",
     "text": [
      "[0.6914988  0.37063932 0.12295213 0.30167628 0.78583475 0.76212917\n",
      " 0.31775762 0.66710794 0.26392734 0.22720329]\n"
     ]
    }
   ],
   "source": [
    "# Take a look at the data\n",
    "print(data[:10])"
   ]
  },
  {
   "cell_type": "markdown",
   "id": "5664b569",
   "metadata": {},
   "source": [
    "Indeed, they are decimals between 0 and 1. Is there a way to **visualize** their distribution? Yes, we just learned about **histogram**:"
   ]
  },
  {
   "cell_type": "markdown",
   "id": "98557f24",
   "metadata": {},
   "source": [
    "```{margin}\n",
    "If you add \";\" to a line of code in Python, it will suppress the output from that code.\n",
    "```"
   ]
  },
  {
   "cell_type": "code",
   "execution_count": 15,
   "id": "75ccb29e",
   "metadata": {},
   "outputs": [
    {
     "data": {
      "image/png": "[encoded data removed]",
      "text/plain": [
       "<Figure size 640x480 with 1 Axes>"
      ]
     },
     "metadata": {},
     "output_type": "display_data"
    }
   ],
   "source": [
    "plt.hist(data, bins=5); # indeed, it looks like a uniform distribution"
   ]
  },
  {
   "cell_type": "markdown",
   "id": "90a4f7de",
   "metadata": {},
   "source": [
    "`numpy` provides some handy functions to do basic statistics. "
   ]
  },
  {
   "cell_type": "markdown",
   "id": "79e71dc0-5ddd-4bea-8959-755be8041507",
   "metadata": {},
   "source": [
    "```{margin}\n",
    "It is a good practice to check the documentation of the Python function to make sure you're using it properly. In Jupyter notebook/lab, try to type `Shift+Tab` around the function. What happens?\n",
    "```"
   ]
  },
  {
   "cell_type": "code",
   "execution_count": 16,
   "id": "3dbcfd18",
   "metadata": {},
   "outputs": [
    {
     "data": {
      "text/plain": [
       "(0.5138544094029512, 0.5106636507384961, 0.2603890765088969)"
      ]
     },
     "execution_count": 16,
     "metadata": {},
     "output_type": "execute_result"
    }
   ],
   "source": [
    "np.mean(data), np.median(data), np.std(data)"
   ]
  },
  {
   "cell_type": "markdown",
   "id": "46556729",
   "metadata": {},
   "source": [
    "To verify that `np.std` does return the standard deviation, we calculate it manually following $\\sigma = \\sqrt{\\sum_i(x_i - \\overline{x})^2/ n}$."
   ]
  },
  {
   "cell_type": "code",
   "execution_count": 17,
   "id": "98632df9",
   "metadata": {},
   "outputs": [
    {
     "data": {
      "text/plain": [
       "0.2603890765088969"
      ]
     },
     "execution_count": 17,
     "metadata": {},
     "output_type": "execute_result"
    }
   ],
   "source": [
    "np.sqrt(np.sum((data - np.mean(data))**2 / len(data)))\n",
    "# Okay, `np.std` does its job pretty well."
   ]
  },
  {
   "cell_type": "markdown",
   "id": "cabd544f",
   "metadata": {},
   "source": [
    "From [Wikipedia](https://en.wikipedia.org/wiki/Continuous_uniform_distribution) (you can also calculate by yourselves), the mean, median, and standard deviation of a uniform distribution $U[a, b]$ are $(a+b)/2$, $(a+b)/2$, and $\\sqrt{3} (b-a)/ 6$. Do our numerical results agree with these analytical expressions?"
   ]
  },
  {
   "cell_type": "markdown",
   "id": "751222ee",
   "metadata": {},
   "source": [
    "### Outlier\n",
    "\n",
    "An additional data point with a value of 100 (aka outlier) was added to the above data set unknowingly. "
   ]
  },
  {
   "cell_type": "code",
   "execution_count": 19,
   "id": "21e60300",
   "metadata": {},
   "outputs": [],
   "source": [
    "data = np.concatenate([data, [100]])"
   ]
  },
  {
   "cell_type": "markdown",
   "id": "c243ad9e",
   "metadata": {},
   "source": [
    "Let's still calculate mean, median, and standard deviation."
   ]
  },
  {
   "cell_type": "code",
   "execution_count": 20,
   "id": "6bdd5f6a",
   "metadata": {},
   "outputs": [
    {
     "data": {
      "text/plain": [
       "(1.4988657518841102, 0.5210756765955065, 9.85352046941716)"
      ]
     },
     "execution_count": 20,
     "metadata": {},
     "output_type": "execute_result"
    }
   ],
   "source": [
    "np.mean(data), np.median(data), np.std(data)"
   ]
  },
  {
   "cell_type": "markdown",
   "id": "6091cb6f",
   "metadata": {},
   "source": [
    "Oooops! The mean and standard deviation are completely off, but the median remains similar to what we had above. **An outlier, being unusually small or unusually large, can greatly affect the mean but not affect the median much!** Consider using median if you worry about outliers! We will illustrate this point more when we play with the calibration files. "
   ]
  },
  {
   "cell_type": "markdown",
   "id": "c2aa4bd2",
   "metadata": {},
   "source": [
    "---"
   ]
  },
  {
   "cell_type": "markdown",
   "id": "797e8809-8ff0-44c1-b827-1b3a3b7b15be",
   "metadata": {},
   "source": [
    "## Exercise 2\n",
    "\n",
    "Let's revisit the **football** data from last week in order to practice calculating the mean, median, and mode of some distributions."
   ]
  },
  {
   "cell_type": "code",
   "execution_count": null,
   "id": "e597174d-f3db-43d9-a93a-e34722d7de4b",
   "metadata": {
    "editable": true,
    "slideshow": {
     "slide_type": ""
    },
    "tags": [
     "hide-input"
    ]
   },
   "outputs": [],
   "source": [
    "# Don't worry about this cell, it's just to make the notebook look a little nicer.\n",
    "try:\n",
    "    import google.colab\n",
    "    IN_COLAB = True\n",
    "except ImportError:\n",
    "    IN_COLAB = False\n",
    "\n",
    "# Get the directory right\n",
    "if IN_COLAB:\n",
    "  from google.colab import drive\n",
    "  drive.mount('/content/drive/')\n",
    "  os.chdir('/content/drive/Shareddrives/AST207/data')\n",
    "else:\n",
    "    os.chdir('../../../_static/ObsAstroData/')"
   ]
  },
  {
   "cell_type": "code",
   "execution_count": null,
   "id": "f810718a-8fe9-49a0-b7bd-559ebc2954e2",
   "metadata": {},
   "outputs": [],
   "source": [
    "# Read the catalog of the football players\n",
    "cat = Table.read('./players_age.csv')"
   ]
  },
  {
   "cell_type": "markdown",
   "id": "a20884f1-8a69-4441-85a1-4ec0098dda52",
   "metadata": {},
   "source": [
    "1. Calculate the **mean**, **median**, and **mode** of the player height (in inches)."
   ]
  },
  {
   "cell_type": "code",
   "execution_count": 1,
   "id": "38845004-3284-4a4c-b4c0-ed4eb55b1600",
   "metadata": {},
   "outputs": [],
   "source": [
    "## Your answer goes here"
   ]
  },
  {
   "cell_type": "markdown",
   "id": "f5cac9c6-e345-4a7b-89ad-76fbb61cf672",
   "metadata": {},
   "source": [
    "2. Are the three numbers different? If so, why? If not, why not?"
   ]
  },
  {
   "cell_type": "code",
   "execution_count": null,
   "id": "250169ae-23f4-4895-8388-68eaa25fba57",
   "metadata": {},
   "outputs": [],
   "source": [
    "## Your answer goes here"
   ]
  },
  {
   "cell_type": "markdown",
   "id": "b5eb3c9e-0710-402d-a62e-a8563575cfed",
   "metadata": {},
   "source": [
    "3. Make a **histogram** of the player height in the same units. Do your answers make sense?"
   ]
  },
  {
   "cell_type": "code",
   "execution_count": null,
   "id": "8ebae16c-e392-4100-980c-97d6414374d8",
   "metadata": {},
   "outputs": [],
   "source": [
    "## Your answer goes here"
   ]
  },
  {
   "cell_type": "markdown",
   "id": "9278d9b3-ecc7-4c79-93b9-0a9e8dc78ec8",
   "metadata": {},
   "source": [
    "4. Calculate the **mean**, **median**, and **mode** of the player age. Again histogram the player age and determine if your answers make sense. "
   ]
  },
  {
   "cell_type": "code",
   "execution_count": null,
   "id": "c88bce9d-f42b-4f4e-9d75-cf51bbda2e74",
   "metadata": {},
   "outputs": [],
   "source": [
    "## Your answer goes here"
   ]
  },
  {
   "cell_type": "markdown",
   "id": "8a4ae6ba-114f-430b-aa1f-a32db7d56c72",
   "metadata": {},
   "source": [
    "5. Extra credit: find **height** and **age** data for typical people in the United States and compare our statistics with those of football players. How can you compare the distributions?"
   ]
  },
  {
   "cell_type": "code",
   "execution_count": null,
   "id": "270eea7d-352d-4b13-8bf5-67e0adc22c31",
   "metadata": {},
   "outputs": [],
   "source": [
    "## Your answer goes here"
   ]
  }
 ],
 "metadata": {
  "kernelspec": {
   "display_name": "Python 3 (ipykernel)",
   "language": "python",
   "name": "python3"
  },
  "language_info": {
   "codemirror_mode": {
    "name": "ipython",
    "version": 3
   },
   "file_extension": ".py",
   "mimetype": "text/x-python",
   "name": "python",
   "nbconvert_exporter": "python",
   "pygments_lexer": "ipython3",
   "version": "3.11.9"
  }
 },
 "nbformat": 4,
 "nbformat_minor": 5
}
