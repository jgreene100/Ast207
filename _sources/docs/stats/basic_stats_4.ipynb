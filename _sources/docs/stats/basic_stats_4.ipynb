{
  "cells": [
    {
      "cell_type": "markdown",
      "id": "4ead61d1",
      "metadata": {
        "editable": true,
        "id": "4ead61d1",
        "tags": []
      },
      "source": [
        "# Basic Statistics (Part 4)\n",
        "\n"
      ]
    },
    {
      "cell_type": "code",
      "execution_count": 1,
      "id": "5d21bd55",
      "metadata": {
        "id": "5d21bd55"
      },
      "outputs": [],
      "source": [
        "# Let's start with importing our packages\n",
        "import numpy as np\n",
        "import scipy\n",
        "import pandas as pd\n",
        "import matplotlib\n",
        "import matplotlib.pyplot as plt\n",
        "\n",
        "# We can beautify our plots by changing the matplotlib settings a little\n",
        "plt.rcParams['font.size'] = 18\n",
        "matplotlib.rcParams['axes.linewidth'] = 2\n",
        "matplotlib.rcParams['font.family'] = \"serif\""
      ]
    },
    {
      "cell_type": "markdown",
      "id": "01186f06",
      "metadata": {
        "id": "01186f06"
      },
      "source": [
        "## Fitting astronomical data"
      ]
    },
    {
      "cell_type": "markdown",
      "id": "a9lBjCpXGI7Z",
      "metadata": {
        "id": "a9lBjCpXGI7Z"
      },
      "source": [
        "Earlier, we looked at data from the Gaia space telescope. Gaia carefully observes the positions and properties of stars in our galaxy. The code below loads in the Gaia data for all stars within 15 parsec of the Sun."
      ]
    },
    {
      "cell_type": "code",
      "execution_count": null,
      "id": "N--lnW26GIPv",
      "metadata": {
        "id": "N--lnW26GIPv"
      },
      "outputs": [],
      "source": [
        "# Let's load in the data\n",
        "import os\n",
        "from google.colab import drive\n",
        "drive.mount('/content/drive/')\n",
        "os.chdir('/content/drive/Shareddrives/AST207/data')\n",
        "\n",
        "# path to the table\n",
        "path = 'gaia_15pc.csv'\n",
        "\n",
        "# loading the table; this function assumes a 'comma separated file (aka csv)'\n",
        "gaia = pd.read_csv(path)\n",
        "\n",
        "# simple errors\n",
        "gaia.loc[:,'color']     = gaia.gmag - gaia.rmag\n",
        "gaia.loc[:,'color_err'] = 0.04\n",
        "gaia.loc[:,'teff_err']  = 10. # K"
      ]
    },
    {
      "cell_type": "markdown",
      "id": "q8wWsnWBHWI0",
      "metadata": {
        "id": "q8wWsnWBHWI0"
      },
      "source": [
        "**Exercise 1**\n",
        "\n",
        "In a previous activity, we searched for which properties of a star are correlated (like how football players heights and weights are correlated). Let's revisit that activity here. Below, plot `teff` versus `color` for the Gaia data (`teff` is the temperature of the star and `color` is the difference between the stars' `g` and `r` magnitudes). Be sure to label your plot."
      ]
    },
    {
      "cell_type": "code",
      "execution_count": null,
      "id": "412f662c-0aea-4eaf-b445-fc2a7a4326ca",
      "metadata": {
        "id": "412f662c-0aea-4eaf-b445-fc2a7a4326ca"
      },
      "outputs": [],
      "source": [
        "# Your plot here"
      ]
    },
    {
      "cell_type": "markdown",
      "id": "4f002006",
      "metadata": {
        "id": "4f002006"
      },
      "source": [
        "Cool! We have a clear observational result: color and temperature of a star are strongly correlated.\n",
        "\n",
        "However, we still don't know *how* color and temperature are related. Is the relation linear, quadratic, or perhaps much more complex? Answering this question will greatly increase our understanding of the stars in our catalog (it will also help our theorist friends try to *explain* what's happening here)."
      ]
    },
    {
      "cell_type": "markdown",
      "id": "ae31df59",
      "metadata": {
        "id": "ae31df59"
      },
      "source": [
        "**Exercise 2**\n",
        "\n",
        "Like we did for the football data, fit the `teff` and `color` data with a linear function. Use the \"grid search\" method we used for the football data. Try fitting the data by hand first to choose appropriate ranges of `m,b` to search.\n",
        "\n",
        "Use your `objective_function` from basic_stats_3.ipynb.\n",
        "\n",
        "Print out the best fit `m,b` and plot the best-fit line against the observed data.\n",
        "\n",
        "Hint: the slope (`m`) will be small. Try `m = -1e-4` to start."
      ]
    },
    {
      "cell_type": "code",
      "execution_count": null,
      "id": "toBXyfAQKE23",
      "metadata": {
        "id": "toBXyfAQKE23"
      },
      "outputs": [],
      "source": [
        "# Your answer"
      ]
    },
    {
      "cell_type": "markdown",
      "id": "9ebrpV9BLnjt",
      "metadata": {
        "id": "9ebrpV9BLnjt"
      },
      "source": [
        "**We just fit a model to astronomical data!** This is a critical tool in modern astronomy. But so far, we can only find the best solution by a time consuming \"grid search.\" Let's find a better way.\n",
        "\n",
        "Many algorithms have been developed to find the parameters that minimize a function (our grid search is one example). Let's use `scipy.optimize.minimize`.\n",
        "\n",
        "**Exercise 3**\n",
        "\n",
        "Run the code below to use `scipy.optimize.minimize`. Then plot the best fit linear function from `scipy.optimize.minimize` alongside the observed data and your \"grid search\" fit."
      ]
    },
    {
      "cell_type": "code",
      "execution_count": null,
      "id": "8rPBrHG-K87c",
      "metadata": {
        "id": "8rPBrHG-K87c"
      },
      "outputs": [],
      "source": [
        "def general_objective_function(theta, fn, x, y):\n",
        "\n",
        "  y_model = fn(x,*theta)\n",
        "\n",
        "  return np.sum(np.power(y-y_model,2) / np.abs(y) )\n",
        "\n",
        "out = scipy.optimize.minimize(general_objective_function, [-1e-4, 2], bounds = [[-1e-3,0], [0,10]], args = (linear, gaia.teff, gaia.color) )\n",
        "m_fit, b_fit = out.x"
      ]
    },
    {
      "cell_type": "code",
      "execution_count": null,
      "id": "G8PcjWwNOxdI",
      "metadata": {
        "id": "G8PcjWwNOxdI"
      },
      "outputs": [],
      "source": [
        "# Your plot here"
      ]
    },
    {
      "cell_type": "code",
      "execution_count": null,
      "id": "ee5d91fa-d447-4a19-8482-4e0f665303f8",
      "metadata": {
        "id": "ee5d91fa-d447-4a19-8482-4e0f665303f8"
      },
      "outputs": [],
      "source": []
    },
    {
      "cell_type": "markdown",
      "id": "2G8wcrXBST5u",
      "metadata": {
        "id": "2G8wcrXBST5u"
      },
      "source": [
        "We can now perform a linear fit and even can do it quicky using `scipy`. However, the above plots show that a linear fit is not a great match to the data. So what is?\n",
        "\n",
        "Fortunately, `general_objective_function` (which we provided for the activity above) allows us to change the function we are fitting...\n",
        "\n",
        "**Exercise 4**\n",
        "\n",
        "Let's try a model where color is *inversely* proportional to temperature:\n",
        "$$ \\mathrm{color} = m / T + b $$\n",
        "Write a function `def inverse(x, m, b)` that returns the inverse function. Then use `scipy` to find the best fit parameters. Plot the best fit inverse function alongside the observed data and the best fit linear function.\n"
      ]
    },
    {
      "cell_type": "code",
      "execution_count": null,
      "id": "lrE-kqA2UTO3",
      "metadata": {
        "id": "lrE-kqA2UTO3"
      },
      "outputs": [],
      "source": [
        "def inverse(x, m, b):\n",
        "  # your code\n",
        "\n",
        "# use scipy to find the best fit parameters"
      ]
    },
    {
      "cell_type": "code",
      "execution_count": null,
      "id": "ozWFrg9OU01t",
      "metadata": {
        "id": "ozWFrg9OU01t"
      },
      "outputs": [],
      "source": [
        "# Your plot"
      ]
    }
  ],
  "metadata": {
    "colab": {
      "provenance": []
    },
    "kernelspec": {
      "display_name": "Python 3 (ipykernel)",
      "language": "python",
      "name": "python3"
    },
    "language_info": {
      "codemirror_mode": {
        "name": "ipython",
        "version": 3
      },
      "file_extension": ".py",
      "mimetype": "text/x-python",
      "name": "python",
      "nbconvert_exporter": "python",
      "pygments_lexer": "ipython3",
      "version": "3.11.9"
    }
  },
  "nbformat": 4,
  "nbformat_minor": 5
}