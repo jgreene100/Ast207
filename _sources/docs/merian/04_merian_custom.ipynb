{
 "cells": [
  {
   "cell_type": "markdown",
   "id": "99bdfae7-9eab-4d40-a467-f95825f77912",
   "metadata": {},
   "source": [
    "# Merian Part 4: Explore your own sample\n",
    "\n",
    "The goal of this notebook is to help you start with your own sample and explore the galaxy properties using the tools and knowledge you learned from this course.\n",
    "\n",
    "**Prerequisites**\n",
    "- Finished the Photometric Redshift notebook and Merian Part 1, 2, 3 notebooks\n",
    "\n",
    "**Prerequisites**\n",
    "- Need to install `reproject, photutils, cmasher, sep, statmorph`"
   ]
  },
  {
   "cell_type": "code",
   "execution_count": 1,
   "id": "8abd1290-9776-45ef-8399-fc372a5fc602",
   "metadata": {
    "editable": true,
    "slideshow": {
     "slide_type": ""
    },
    "tags": [
     "hide-input"
    ]
   },
   "outputs": [],
   "source": [
    "%load_ext autoreload\n",
    "%autoreload 2\n",
    "import os, sys\n",
    "import numpy as np\n",
    "import matplotlib.pyplot as plt\n",
    "from astropy.table import Table\n",
    "from astropy.coordinates import SkyCoord\n",
    "from astropy.io import fits\n",
    "from IPython.display import clear_output\n",
    "\n",
    "# We can beautify our plots by changing the matpltlib setting a little\n",
    "plt.rcParams['font.size'] = 18\n",
    "plt.rcParams['image.origin'] = 'lower'\n",
    "plt.rcParams['figure.figsize'] = (8, 6)\n",
    "plt.rcParams['figure.dpi'] = 90\n",
    "plt.rcParams['axes.linewidth'] = 2"
   ]
  },
  {
   "cell_type": "code",
   "execution_count": 23,
   "id": "8621e06b-aac1-4beb-88f8-a798d9fc2439",
   "metadata": {
    "editable": true,
    "slideshow": {
     "slide_type": ""
    },
    "tags": [
     "hide-input"
    ]
   },
   "outputs": [],
   "source": [
    "required_packages = ['statmorph', 'photutils', 'sep', 'cmasher', 'reproject']  # Define the required packages for this notebook\n",
    "\n",
    "import sys\n",
    "import subprocess\n",
    "\n",
    "try:\n",
    "    import google.colab\n",
    "    IN_COLAB = True\n",
    "except ImportError:\n",
    "    IN_COLAB = False\n",
    "\n",
    "if IN_COLAB:\n",
    "    # Download utils.py\n",
    "    !wget -q -O /content/utils.py https://raw.githubusercontent.com/AstroJacobLi/ObsAstGreene/refs/heads/main/book/docs/utils.py\n",
    "    # Function to check and install missing packages\n",
    "    def install_packages(packages):\n",
    "        for package in packages:\n",
    "            try:\n",
    "                __import__(package)\n",
    "            except ImportError:\n",
    "                print(f\"Installing {package}...\")\n",
    "                subprocess.check_call([sys.executable, '-m', 'pip', 'install', package])\n",
    "    # Install any missing packages\n",
    "    install_packages(required_packages)\n",
    "else:\n",
    "    # If not in Colab, adjust the path for local development\n",
    "    sys.path.append('/Users/jiaxuanl/Dropbox/Courses/ObsAstGreene/book/docs/')\n",
    "\n",
    "# Get the directory right\n",
    "if IN_COLAB:\n",
    "  from google.colab import drive\n",
    "  drive.mount('/content/drive/')\n",
    "  os.chdir('/content/drive/Shareddrives/AST207/data')\n",
    "else:\n",
    "    os.chdir('../../_static/ObsAstroData/')"
   ]
  },
  {
   "cell_type": "markdown",
   "id": "d2602a63-1de7-4067-9bf7-ca600e86cde7",
   "metadata": {},
   "source": [
    "## 1. Define your own Merian sample\n",
    "\n",
    "Let's load the in-band galaxy catalog and show the galaxy properties in this sample. Recall that you've already obtained the sizes of all galaxies in this catalog by doing Sersic fitting (Merian notebook 2)!"
   ]
  },
  {
   "cell_type": "code",
   "execution_count": 5,
   "id": "afac7c68-427d-4c11-b125-387373ced993",
   "metadata": {},
   "outputs": [
    {
     "name": "stdout",
     "output_type": "stream",
     "text": [
      "Total number of galaxies: 152\n"
     ]
    }
   ],
   "source": [
    "cat_inband = Table.read('./merian/cosmos_Merian_DR1_specz_inband.fits')\n",
    "print('Total number of galaxies:', len(cat_inband))"
   ]
  },
  {
   "cell_type": "markdown",
   "id": "baa9654c-2b22-4050-ad6b-703b56932022",
   "metadata": {},
   "source": [
    "Dsepite the fact that the catalog provides an estimate for the stellar mass, let's calculate it in another way. For a given galaxy, we know its magnitudes in both `g` and `i` bands, and thus we can calculate its **luminosity** in g-band:\n",
    "$$\n",
    "L_g / L_\\odot = 10^{-0.4 \\times (M_g - M_{g, \\odot})},\n",
    "$$\n",
    "where $M_{g,\\odot}=5.05$ is the absolute magnitude of the Sun in $g$-band.\n",
    "\n",
    "To convert the luminosity to stellar mass, we need a so-called \"mass-to-light ratio\", which is a function of $g-i$ color (from [Into et al. 2013](https://ui.adsabs.harvard.edu/abs/2013MNRAS.430.2715I/abstract)):\n",
    "$$\n",
    "\\log M_\\star / L_g = 1.297 (g-i) - 0.855\n",
    "$$"
   ]
  },
  {
   "cell_type": "markdown",
   "id": "bb04f50b-7839-49b7-ac6f-77dd60e3ad93",
   "metadata": {},
   "source": [
    "**Exercise 1**\n",
    "\n",
    "1. Based on the above information, write a Python function to calculate the log(stellar mass) of a given galaxy. The function should look like:\n",
    "```python\n",
    "from astropy.cosmology import Planck18\n",
    "import astropy.units as u\n",
    "def calc_logMstar(mag_g, mag_i, spec_z):\n",
    "    distance = Planck18.luminosity_distance(spec_z).to(u.Mpc).value # distance in Mpc\n",
    "    M_g = mag_g - (5 * np.log10(distance) + 25) # absolute magnitude in g-band\n",
    "    g_i_color = mag_g - mag_i\n",
    "\n",
    "    ## Complete this function from here!\n",
    "\n",
    "    return logMstar\n",
    "```\n",
    "\n",
    "2. Use this function to calculate the stellar mass of all galaxies in `cat_inband`, and write the calculated stellar masses to the catalog like `cat_inband['logMstar'] = calc_logMstar(cat_inband['mag_g'], cat_inband['mag_i'], cat_inband['z_desi'])`. Then compare your stellar mass with `cat_inband['mass_1p0']`. Do they agree? Don't worry if your stellar mass is a bit higher than `mass_1p0`!\n",
    "   \n",
    "4. Plot the properties of galaxies in this sample. You are encouraged to plot mass--SFR and mass--size relations. Note that when plotting these relations, please use `log10(stellar mass)`, `log10(SFR)`, and `log10(size)`. Note that the size should be in physical units (e.g., kpc) instead of arcsec."
   ]
  },
  {
   "cell_type": "markdown",
   "id": "a4e510ff-a7bd-4414-923c-20dc975a72ad",
   "metadata": {},
   "source": [
    "**Exercise 2**\n",
    "\n",
    "Select your own sample!! For example, you can select the most massive things, the most star-forming things, the largest things, etc."
   ]
  },
  {
   "cell_type": "code",
   "execution_count": null,
   "id": "52bacdb1-a259-4d92-8e23-c5e13b184521",
   "metadata": {},
   "outputs": [],
   "source": []
  },
  {
   "cell_type": "markdown",
   "id": "b7472853-dcf7-45f9-9e1a-742207416631",
   "metadata": {},
   "source": [
    "## 2. A closer look at your sample\n",
    "Note that the following questions are very open-ended, and they don't need to be answered exactly in the way we ask for. You should treat this notebook as \"doing research\". \n",
    "\n",
    "**Exercise 3**\n",
    "\n",
    "1. Show the distribution of your subsample on the mass-SFR plane or on the mass-size plane. Please also show the whole sample in the background. \n",
    "\n",
    "2. Discuss why your subsample would look like this, and come up with a hypothesis.\n",
    "\n",
    "3. Fit a model to the properties of your subsample and compare your fit with the full sample. Do you see any differences? Why?\n",
    "\n",
    "4. You can also generate a bunch of H-alpha maps for galaxies in your subsample. State what you find. "
   ]
  },
  {
   "cell_type": "code",
   "execution_count": null,
   "id": "36c8e00e-65fc-48d9-9249-dafc89d0cc39",
   "metadata": {},
   "outputs": [],
   "source": []
  }
 ],
 "metadata": {
  "kernelspec": {
   "display_name": "Python 3 (ipykernel)",
   "language": "python",
   "name": "python3"
  },
  "language_info": {
   "codemirror_mode": {
    "name": "ipython",
    "version": 3
   },
   "file_extension": ".py",
   "mimetype": "text/x-python",
   "name": "python",
   "nbconvert_exporter": "python",
   "pygments_lexer": "ipython3",
   "version": "3.11.9"
  }
 },
 "nbformat": 4,
 "nbformat_minor": 5
}
