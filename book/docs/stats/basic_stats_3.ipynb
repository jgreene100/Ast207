{
  "cells": [
    {
      "cell_type": "markdown",
      "id": "4ead61d1",
      "metadata": {
        "editable": true,
        "id": "4ead61d1",
        "tags": []
      },
      "source": [
        "# Basic Statistics (Part 3)\n",
        "\n",
        "**Prerequisite**\n",
        "\n",
        "* $\\texttt{numpy}$ and $\\texttt{matplotlib}$.\n",
        "* Basic Statistics (Part 1 and 2)\n",
        "\n",
        "**New skills**\n",
        "\n",
        "* Probability notation and basic rules\n",
        "* Likelihood functions\n",
        "* Fitting a model"
      ]
    },
    {
      "cell_type": "code",
      "execution_count": 2,
      "id": "5d21bd55",
      "metadata": {
        "id": "5d21bd55"
      },
      "outputs": [],
      "source": [
        "# Let's start with importing our packages\n",
        "import numpy as np\n",
        "import scipy\n",
        "import pandas as pd\n",
        "import matplotlib\n",
        "import matplotlib.pyplot as plt\n",
        "\n",
        "# We can beautify our plots by changing the matplotlib settings a little\n",
        "plt.rcParams['font.size'] = 18\n",
        "matplotlib.rcParams['axes.linewidth'] = 2\n",
        "matplotlib.rcParams['font.family'] = \"serif\""
      ]
    },
    {
      "cell_type": "markdown",
      "id": "b86cb28f",
      "metadata": {
        "editable": true,
        "id": "b86cb28f",
        "tags": []
      },
      "source": [
        "## Part 1: probability functions\n"
      ]
    },
    {
      "cell_type": "markdown",
      "id": "VE7LQgK_SIib",
      "metadata": {
        "id": "VE7LQgK_SIib"
      },
      "source": [
        "**Exercise 1**\n",
        "\n",
        "The Gaussian Probability Density Function (PDF) is\n",
        "$$p(x) = \\frac{1}{\\sqrt{2\\pi} \\sigma} e^{-\\frac{(x-\\mu)^2}{2\\sigma^2}}$$\n",
        "\n",
        "Write a function for the Gaussian pdf: `def gaussian_pdf(x, mu, sigma)` that returns `p(x)`. Then plot the Gaussian pdf for `-4 < x < 4` alongside a histogram of random draws from the Gaussian distribution (with `density=True`). Repeat this process for $\\sigma = 0.5, 1.0$ (all with $\\mu = 0$).\n",
        "\n",
        "How many random draws do you need for the histogram to closely match `p(x)`? Does `p(x)` match the histogram if we instead set `density=False`?\n",
        "\n",
        "*Hint:* you can take a square root with `np.sqrt()` and an exponential with `np.exp()`. You can also use `pi=3.14` or `pi=np.pi` for a more precise value."
      ]
    },
    {
      "cell_type": "code",
      "execution_count": null,
      "id": "jKvQgkNxQG3V",
      "metadata": {
        "id": "jKvQgkNxQG3V"
      },
      "outputs": [],
      "source": [
        "def gaussian_pdf(x, mu, sigma):\n",
        "    # your answer here"
      ]
    },
    {
      "cell_type": "markdown",
      "id": "7147af99",
      "metadata": {
        "id": "7147af99"
      },
      "source": [
        "# Part 2: fitting models to data"
      ]
    },
    {
      "cell_type": "markdown",
      "id": "7rKBKOPRFi0b",
      "metadata": {
        "id": "7rKBKOPRFi0b"
      },
      "source": [
        "## Linear fit"
      ]
    },
    {
      "cell_type": "markdown",
      "id": "640c8cc7",
      "metadata": {
        "id": "640c8cc7"
      },
      "source": [
        "Let's revist the data on football players from earlier. We already saw that height and weight are correlated in the data (taller players tend to weight more). While we can clearly see the trend 'by eye,' is there a way to describe this correlation mathematically? For example, we may want to ask: \"what is the typical weight of players who are 6 feet tall?\"\n",
        "\n",
        "In astronomy, we often find ourselves asking questions like that. For example, how does the size of a star depend on it's brightness? or how does the shape of a galaxy depend on its age?\n",
        "\n",
        "In this section, we will learn how to find the mathemtical function that best describes a set of data."
      ]
    },
    {
      "cell_type": "markdown",
      "id": "7Ja1Sn7QHhvu",
      "metadata": {
        "id": "7Ja1Sn7QHhvu"
      },
      "source": [
        "Run the code below to load in the height and weights from the football player database."
      ]
    },
    {
      "cell_type": "code",
      "execution_count": null,
      "id": "ccc64394-8f47-4140-ad87-0a79cd5ba99c",
      "metadata": {
        "id": "ccc64394-8f47-4140-ad87-0a79cd5ba99c",
        "colab": {
          "base_uri": "https://localhost:8080/"
        },
        "outputId": "d58aa82a-8324-4e0c-f469-d465a11e4440"
      },
      "outputs": [
        {
          "output_type": "stream",
          "name": "stdout",
          "text": [
            "Mounted at /content/drive/\n"
          ]
        }
      ],
      "source": [
        "# Let's load in the data\n",
        "import os\n",
        "from google.colab import drive\n",
        "from astropy.table import Table\n",
        "\n",
        "drive.mount('/content/drive/')\n",
        "os.chdir('/content/drive/Shareddrives/AST207/data')\n",
        "\n",
        "cat = Table.read('./players_age.csv')\n",
        "\n",
        "height = cat['height_inches']\n",
        "weight = cat['weight']\n",
        "\n",
        "height = np.array(height)\n",
        "weight = np.array(weight)"
      ]
    },
    {
      "cell_type": "markdown",
      "id": "J73150NRD08B",
      "metadata": {
        "id": "J73150NRD08B"
      },
      "source": [
        "The simplist relation between two variables `x` and `y` is the linear function:\n",
        "$$ y = m * x + b $$\n",
        "in our case, `x` is a player's height and `y` is the player's weight.\n",
        "\n",
        "**Exercise 2**\n",
        "\n",
        "**Part a**\n",
        "\n",
        "First make a scatter plot of player's height versus their weight. Be sure to include labels."
      ]
    },
    {
      "cell_type": "code",
      "source": [
        "# your answer here"
      ],
      "metadata": {
        "id": "84pmMW6wa69q"
      },
      "id": "84pmMW6wa69q",
      "execution_count": null,
      "outputs": []
    },
    {
      "cell_type": "markdown",
      "source": [
        "**Part b**\n",
        "\n",
        "Make the function `def linear(x,m,b)` that returns `y=m*x+b`. For `0 < x < 10` plot `linear(x, m, b)` for `m=1` and `b=1`."
      ],
      "metadata": {
        "id": "Q2uhtjVFauEP"
      },
      "id": "Q2uhtjVFauEP"
    },
    {
      "cell_type": "code",
      "execution_count": 6,
      "id": "earpzPqwGwZX",
      "metadata": {
        "id": "earpzPqwGwZX"
      },
      "outputs": [],
      "source": [
        "def linear(x,m,b):\n",
        "  # your answer here"
      ]
    },
    {
      "cell_type": "markdown",
      "source": [
        "Then make a new plot with `m=2` and `b=1`. What do you notice is different?"
      ],
      "metadata": {
        "id": "tsUq3JUif6Aw"
      },
      "id": "tsUq3JUif6Aw"
    },
    {
      "cell_type": "code",
      "source": [
        "# your answer here"
      ],
      "metadata": {
        "id": "SmJHRVvMa8-A"
      },
      "id": "SmJHRVvMa8-A",
      "execution_count": null,
      "outputs": []
    },
    {
      "cell_type": "markdown",
      "source": [
        "Finally, make a new plot with `m=1` and `b=2`. What do you notice is different?\n"
      ],
      "metadata": {
        "id": "7ZMgSux8f38j"
      },
      "id": "7ZMgSux8f38j"
    },
    {
      "cell_type": "code",
      "source": [
        "# your answer here"
      ],
      "metadata": {
        "id": "ykQwMw2Pf_PF"
      },
      "id": "ykQwMw2Pf_PF",
      "execution_count": null,
      "outputs": []
    },
    {
      "cell_type": "markdown",
      "source": [
        "**Part c**\n",
        "\n",
        "For `65 < x < 80` plot `linear(x, m, b)` alongside the observed heights and weights. Choose `m,b` such that the line best matches the observed data."
      ],
      "metadata": {
        "id": "QAVSoj-Za-BB"
      },
      "id": "QAVSoj-Za-BB"
    },
    {
      "cell_type": "code",
      "source": [
        "# your answer here"
      ],
      "metadata": {
        "id": "oWUTrXnfbxM1"
      },
      "id": "oWUTrXnfbxM1",
      "execution_count": null,
      "outputs": []
    },
    {
      "cell_type": "markdown",
      "id": "RPpMaGZzIc49",
      "metadata": {
        "id": "RPpMaGZzIc49"
      },
      "source": [
        "Finding values of `m,b` (the slope and intercept of our linear function) by hand wasn't too difficult but we have a few problems:\n",
        "\n",
        "\n",
        "1.   How do we convince our friends that we found the **best** values of `m,b`?\n",
        "2.   What if we have a function with lots of variables? Then finding the best by hand is no longer feasible.\n",
        "\n",
        "Thankfully, we don't have the find the best values by hand, we can ask our computers to help us. To have the computer find the best fitting line to the data, we'll follow a two step process:\n",
        "\n",
        "\n",
        "1.   Define a function that tells us how well our line matches the data. Let's call this our *objective function*.\n",
        "2.   Find the values of `m,b` that optimize our objective function."
      ]
    },
    {
      "cell_type": "markdown",
      "id": "rQgvbZ0hK_7o",
      "metadata": {
        "id": "rQgvbZ0hK_7o"
      },
      "source": [
        "The simplist objective function would be to calculate the difference between our model's prediction for a player's weight given their height and the player's actual weight. If we calculate the difference between the model and the data for all the players, we'll know how closely we match the data. Mathematically this looks like:\n",
        "\n",
        "$$ \\mathrm{Simple~Objective~Function}(m,b)  = | \\mathrm{linear}(x_1,m,b) - y_1 | + | \\mathrm{linear}(x_2,m,b) - y_2 | + \\dots $$\n",
        "\n",
        "the \"$\\dots$\" means that we sum the difference between the model and the data for all the players in the table. The \"| |\" mean we are taking the absolute value (for example $| -1 |=1$).\n",
        "\n",
        "This simple function is close but let's make two small changes:\n",
        "1. Let's consider the **fractional** difference between the model prediction and the observed data (this will make sure we can fit data will small and large numbers easily).\n",
        "2. Let's take the square of the difference instead of absolute value. This is a common convention and will help us later on in the class.\n",
        "\n",
        "Now our final objective function is:\n",
        "\n",
        "$$ \\mathrm{Objective~Function}(m,b)  =  \\frac{[ \\mathrm{linear}(x_1,m,b) - y_1 )]^2}{|y_1|} + \\frac{[ \\mathrm{linear}(x_2,m,b) - y_2 )]^2}{|y_2|}  + \\dots $$\n",
        "\n",
        "(this objective function is commonly known as $\\chi^2$)"
      ]
    },
    {
      "cell_type": "markdown",
      "id": "YwWcFI8n7bZn",
      "metadata": {
        "id": "YwWcFI8n7bZn"
      },
      "source": [
        "**Exercise 3**\n",
        "\n",
        "Write a function that calculates the \"Objective Function\" for a given set of `x` and `y` data and the two parameters `m,b` of the linear function. Your function should have the form: `def objective_function(x,y,m,b)`\n",
        "\n",
        "As a test, `objective_function(x=height,y=weight,m=10,b=-500)` should return `6216.87`\n",
        "\n",
        "Hint: use `np.abs` to take the absolute value"
      ]
    },
    {
      "cell_type": "code",
      "execution_count": null,
      "id": "1ZpprNO-JqM-",
      "metadata": {
        "id": "1ZpprNO-JqM-"
      },
      "outputs": [],
      "source": [
        "def objective_function(x,y,m,b):\n",
        "    # your answer here"
      ]
    },
    {
      "cell_type": "code",
      "execution_count": null,
      "id": "iArHdiqO8cge",
      "metadata": {
        "id": "iArHdiqO8cge"
      },
      "outputs": [],
      "source": [
        "# test your function:\n",
        "objective_function(x=height,y=weight,m=10,b=-500)"
      ]
    },
    {
      "cell_type": "markdown",
      "id": "3fWfw7338E75",
      "metadata": {
        "id": "3fWfw7338E75"
      },
      "source": [
        "**Exercise 4**\n",
        "\n"
      ]
    },
    {
      "cell_type": "markdown",
      "source": [
        "Below is an example of using a `for` loop.  Loops are helpful when we want to run the same code multiple times.\n",
        "\n",
        "In this example, we loop over a variable called `x` and store `x**2` to a list called `y`. We then plot `x` versus `y`."
      ],
      "metadata": {
        "id": "jBDQE36qcKm3"
      },
      "id": "jBDQE36qcKm3"
    },
    {
      "cell_type": "code",
      "source": [
        "# here's the x values we will loop over\n",
        "x = [0,1,2,3,4]\n",
        "\n",
        "# here's where we will store the y values\n",
        "y = []\n",
        "\n",
        "# here's the for loop\n",
        "for xi in x:\n",
        "  y.append(xi**2)\n",
        "\n",
        "# let plot x vs y\n",
        "plt.scatter(x,y)\n",
        "\n",
        "# let's be good and label our plot\n",
        "plt.xlabel('x')\n",
        "plt.ylabel('y')"
      ],
      "metadata": {
        "colab": {
          "base_uri": "https://localhost:8080/",
          "height": 484
        },
        "id": "3WSusnBkdSvP",
        "outputId": "01a98435-5b31-4d64-9b4d-071dc16dd560"
      },
      "id": "3WSusnBkdSvP",
      "execution_count": 4,
      "outputs": [
        {
          "output_type": "execute_result",
          "data": {
            "text/plain": [
              "Text(0, 0.5, 'y')"
            ]
          },
          "metadata": {},
          "execution_count": 4
        },
        {
          "output_type": "display_data",
          "data": {
            "text/plain": [
              "<Figure size 640x480 with 1 Axes>"
            ],
            "image/png": "[encoded data removed]"
          },
          "metadata": {}
        }
      ]
    },
    {
      "cell_type": "markdown",
      "source": [
        "**Part a**\n",
        "\n",
        "Using a for loop, make a plot of $y = 2 * x + 1$ for $x$ between $0$ and $10$.\n",
        "\n",
        "Use `x = np.linspace(0, 10, 5)` which will create an array of 10 evenly spaced values bewteen 0 and 10."
      ],
      "metadata": {
        "id": "Sr1_JoUXd5ym"
      },
      "id": "Sr1_JoUXd5ym"
    },
    {
      "cell_type": "code",
      "source": [
        "# your answer here"
      ],
      "metadata": {
        "id": "p6NuAK-OebDy"
      },
      "id": "p6NuAK-OebDy",
      "execution_count": null,
      "outputs": []
    },
    {
      "cell_type": "markdown",
      "source": [
        "**Part b**\n",
        "\n",
        "Use your `objective_function` to search for good values of `m,b`. Using `for` loops, calculate `objective_function` for $0<m<20$ and $-1000<b<0$. For each combination of `b,m` plot `b` vs. `m` on a scatter plot with the color set by `objective_function(x,y,m,b)`. For an example of a scatter plot with the points colored by a third parameter, see the [`Getting started with arrays and plots in Python notebook`](https://jgreene100.github.io/Ast207/docs/intro_python/numpy_and_plotting.html). Try 50 values of `b` and 50 values of `m` (it should run in less than a second). For ease of reading, plot `np.log10` of the objective function."
      ],
      "metadata": {
        "id": "ePTmJGTVdKgw"
      },
      "id": "ePTmJGTVdKgw"
    },
    {
      "cell_type": "code",
      "execution_count": null,
      "id": "kjGasX_9_P7u",
      "metadata": {
        "id": "kjGasX_9_P7u"
      },
      "outputs": [],
      "source": [
        "# your answer here"
      ]
    },
    {
      "cell_type": "markdown",
      "id": "Eod7OchiAHFs",
      "metadata": {
        "id": "Eod7OchiAHFs"
      },
      "source": [
        "**Exercise 5**\n",
        "\n",
        "From your grid search above, find the values of `m,b` that yield the lowest `simple_objective_function`. Plot the linear function using these parameters alongside the football data and your by-band linear function. Be sure to label your plot.\n",
        "\n",
        "Hint: try using `np.argmin`"
      ]
    },
    {
      "cell_type": "code",
      "execution_count": null,
      "id": "DRT7xjOUAY2M",
      "metadata": {
        "id": "DRT7xjOUAY2M"
      },
      "outputs": [],
      "source": [
        "# Your answer here"
      ]
    }
  ],
  "metadata": {
    "colab": {
      "provenance": []
    },
    "kernelspec": {
      "display_name": "Python 3 (ipykernel)",
      "language": "python",
      "name": "python3"
    },
    "language_info": {
      "codemirror_mode": {
        "name": "ipython",
        "version": 3
      },
      "file_extension": ".py",
      "mimetype": "text/x-python",
      "name": "python",
      "nbconvert_exporter": "python",
      "pygments_lexer": "ipython3",
      "version": "3.11.9"
    }
  },
  "nbformat": 4,
  "nbformat_minor": 5
}