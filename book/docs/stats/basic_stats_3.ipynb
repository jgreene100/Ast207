{
  "cells": [
    {
      "cell_type": "markdown",
      "id": "4ead61d1",
      "metadata": {
        "editable": true,
        "id": "4ead61d1",
        "tags": []
      },
      "source": [
        "# Basic Statistics (Part 3)\n",
        "\n",
        "**Prerequisite**\n",
        "\n",
        "* $\\texttt{numpy}$ and $\\texttt{matplotlib}$.\n",
        "* Basic Statistics (Part 1 and 2)\n",
        "\n",
        "**New skills**\n",
        "\n",
        "* Probability notation and basic rules\n",
        "* Likelihood functions\n",
        "* Fitting a model"
      ]
    },
    {
      "cell_type": "code",
      "execution_count": 1,
      "id": "5d21bd55",
      "metadata": {
        "id": "5d21bd55"
      },
      "outputs": [],
      "source": [
        "# Let's start with importing our packages\n",
        "import numpy as np\n",
        "import scipy\n",
        "import pandas as pd\n",
        "import matplotlib\n",
        "import matplotlib.pyplot as plt\n",
        "\n",
        "# We can beautify our plots by changing the matplotlib settings a little\n",
        "plt.rcParams['font.size'] = 18\n",
        "matplotlib.rcParams['axes.linewidth'] = 2\n",
        "matplotlib.rcParams['font.family'] = \"serif\""
      ]
    },
    {
      "cell_type": "markdown",
      "id": "b86cb28f",
      "metadata": {
        "editable": true,
        "id": "b86cb28f",
        "tags": []
      },
      "source": [
        "## Part 1: probability functions\n"
      ]
    },
    {
      "cell_type": "markdown",
      "id": "VE7LQgK_SIib",
      "metadata": {
        "id": "VE7LQgK_SIib"
      },
      "source": [
        "**Exercise 1**\n",
        "\n",
        "The Gaussian Probability Density Function (PDF) is\n",
        "$$p(x) = \\frac{1}{\\sqrt{2\\pi} \\sigma} e^{-\\frac{(x-\\mu)^2}{2\\sigma^2}}$$\n",
        "\n",
        "Write a function for the Gaussian pdf: `def gaussian_pdf(x, mu, sigma)` that returns `p(x)`. Then plot the Gaussian pdf for `-4 < x < 4` alongside a histogram of random draws from the Gaussian distribution (with `density=True`). Repeat this process for $\\sigma = 0.5, 1.0$ (all with $\\mu = 0$).\n",
        "\n",
        "How many random draws do you need for the histogram to closely match `p(x)`? Does `p(x)` match the histogram if we instead set `density=False`?\n",
        "\n",
        "*Bonus:* use for loops"
      ]
    },
    {
      "cell_type": "code",
      "execution_count": 3,
      "id": "jKvQgkNxQG3V",
      "metadata": {
        "id": "jKvQgkNxQG3V"
      },
      "outputs": [],
      "source": [
        "def gaussian_pdf(x, mu, sigma):\n",
        "    # your answer here"
      ]
    },
    {
      "cell_type": "markdown",
      "id": "7147af99",
      "metadata": {
        "id": "7147af99"
      },
      "source": [
        "# Part 2: fitting models to data"
      ]
    },
    {
      "cell_type": "markdown",
      "id": "7rKBKOPRFi0b",
      "metadata": {
        "id": "7rKBKOPRFi0b"
      },
      "source": [
        "## Linear fit"
      ]
    },
    {
      "cell_type": "markdown",
      "id": "640c8cc7",
      "metadata": {
        "id": "640c8cc7"
      },
      "source": [
        "Let's revist the data on football players from earlier. We already saw that height and weight are correlated in the data (taller players tend to weight more). While we can clearly see the trend 'by eye,' is there a way to describe this correlation mathematically? For example, we may want to ask: \"what is the typical weight of players who are 6 feet tall?\"\n",
        "\n",
        "In astronomy, we often find ourselves asking questions like that. For example, how does the size of a star depend on it's brightness? or how does the shape of a galaxy depend on its age?\n",
        "\n",
        "In this section, we will learn how to find the mathemtical function that best describes a set of data."
      ]
    },
    {
      "cell_type": "markdown",
      "id": "7Ja1Sn7QHhvu",
      "metadata": {
        "id": "7Ja1Sn7QHhvu"
      },
      "source": [
        "Run the code below to load in the height and weights from the football player database."
      ]
    },
    {
      "cell_type": "code",
      "execution_count": 4,
      "id": "ccc64394-8f47-4140-ad87-0a79cd5ba99c",
      "metadata": {
        "id": "ccc64394-8f47-4140-ad87-0a79cd5ba99c",
        "colab": {
          "base_uri": "https://localhost:8080/"
        },
        "outputId": "d58aa82a-8324-4e0c-f469-d465a11e4440"
      },
      "outputs": [
        {
          "output_type": "stream",
          "name": "stdout",
          "text": [
            "Mounted at /content/drive/\n"
          ]
        }
      ],
      "source": [
        "# Let's load in the data\n",
        "import os\n",
        "from google.colab import drive\n",
        "from astropy.table import Table\n",
        "\n",
        "drive.mount('/content/drive/')\n",
        "os.chdir('/content/drive/Shareddrives/AST207/data')\n",
        "\n",
        "cat = Table.read('./players_age.csv')\n",
        "\n",
        "height = cat['height_inches']\n",
        "weight = cat['weight']\n",
        "\n",
        "height = np.array(height)\n",
        "weight = np.array(weight)"
      ]
    },
    {
      "cell_type": "markdown",
      "id": "J73150NRD08B",
      "metadata": {
        "id": "J73150NRD08B"
      },
      "source": [
        "The simplist relation between two variables `x` and `y` is the linear function:\n",
        "$$ y = m * x + b $$\n",
        "in our case, `x` is a player's height and `y` is the player's weight.\n",
        "\n",
        "**Exercise 2**\n",
        "\n",
        "Make the function `def linear(x,m,b)` that returns `y=m*x+b`. For `65 < x < 80` plot `linear(x, m, b)` alongside the observed heights and weights. Choose `m,b` such that the line best matches the observed data.\n",
        "\n",
        "Be sure to include labels."
      ]
    },
    {
      "cell_type": "code",
      "execution_count": null,
      "id": "earpzPqwGwZX",
      "metadata": {
        "id": "earpzPqwGwZX"
      },
      "outputs": [],
      "source": [
        "def linear(x,m,b):\n",
        "  # your answer here"
      ]
    },
    {
      "cell_type": "markdown",
      "id": "RPpMaGZzIc49",
      "metadata": {
        "id": "RPpMaGZzIc49"
      },
      "source": [
        "Finding values of `m,b` (the slope and intercept of our linear function) by hand wasn't too difficult but we have a few problems:\n",
        "\n",
        "\n",
        "1.   How do we convince our friends that we found the **best** values of `m,b`?\n",
        "2.   What if we have a function with lots of variables? Then finding the best by hand is no longer feasible.\n",
        "\n",
        "Thankfully, we don't have the find the best values by hand, we can ask our computers to help us. To have the computer find the best fitting line to the data, we'll follow a two step process:\n",
        "\n",
        "\n",
        "1.   Define a function that tells us how well our line matches the data. Let's call this our *objective function*.\n",
        "2.   Find the values of `m,b` that optimize our objective function."
      ]
    },
    {
      "cell_type": "markdown",
      "id": "rQgvbZ0hK_7o",
      "metadata": {
        "id": "rQgvbZ0hK_7o"
      },
      "source": [
        "The simplist objective function would be to calculate the difference between our model's prediction for a player's weight given their height and the player's actual weight. If we calculate the difference between the model and the data for all the players, we'll know how closely we match the data. Mathematically this looks like:\n",
        "\n",
        "$$ \\mathrm{Simple~Objective~Function}(m,b)  = | \\mathrm{linear}(x_1,m,b) - y_1 | + | \\mathrm{linear}(x_2,m,b) - y_2 | + \\dots $$\n",
        "\n",
        "the \"$\\dots$\" means that we sum the difference between the model and the data for all the players in the table. The \"| |\" mean we are taking the absolute value (for example $| -1 |=1$).\n",
        "\n",
        "This simple function is close but let's make two small changes:\n",
        "1. Let's consider the **fractional** difference between the model prediction and the observed data (this will make sure we can fit data will small and large numbers easily).\n",
        "2. Let's take the square of the difference instead of absolute value. This is a common convention and will help us later on in the class.\n",
        "\n",
        "Now our final objective function is:\n",
        "\n",
        "$$ \\mathrm{Objective~Function}(m,b)  =  \\frac{[ \\mathrm{linear}(x_1,m,b) - y_1 )]^2}{|y_1|} + \\frac{[ \\mathrm{linear}(x_2,m,b) - y_2 )]^2}{|y_2|}  + \\dots $$\n",
        "\n",
        "(this objective function is commonly known as $\\chi^2$)"
      ]
    },
    {
      "cell_type": "markdown",
      "id": "YwWcFI8n7bZn",
      "metadata": {
        "id": "YwWcFI8n7bZn"
      },
      "source": [
        "**Exercise 3**\n",
        "\n",
        "Write a function that calculates the \"Objective Function\" for a given set of `x` and `y` data and the two parameters `m,b` of the linear function. Your function should have the form: `def objective_function(x,y,m,b)`\n",
        "\n",
        "As a test, `objective_function(x=height,y=weight,m=10,b=-500)` should return `6216.87`\n",
        "\n",
        "Hint: use `np.abs` to take the absolute value"
      ]
    },
    {
      "cell_type": "code",
      "execution_count": null,
      "id": "1ZpprNO-JqM-",
      "metadata": {
        "id": "1ZpprNO-JqM-"
      },
      "outputs": [],
      "source": [
        "def objective_function(x,y,m,b):\n",
        "    # your answer here"
      ]
    },
    {
      "cell_type": "code",
      "execution_count": null,
      "id": "iArHdiqO8cge",
      "metadata": {
        "id": "iArHdiqO8cge"
      },
      "outputs": [],
      "source": [
        "# test your function:\n",
        "objective_function(x=height,y=weight,m=10,b=-500)"
      ]
    },
    {
      "cell_type": "markdown",
      "id": "3fWfw7338E75",
      "metadata": {
        "id": "3fWfw7338E75"
      },
      "source": [
        "**Exercise 4**\n",
        "\n",
        "Use your `objective_function` to search for good values of `m,b`. Using `for` loops, calculate `objective_function` for $0<m<20$ and $-1000<b<0$. For each combination of `b,m` plot `b` vs. `m` on a scatter plot with the color set by `simple_objective_function(x,y,m,b)`. For an example of a scatter plot with the points colored by a third parameter, see the [`Getting started with arrays and plots in Python notebook`](https://jgreene100.github.io/Ast207/docs/intro_python/numpy_and_plotting.html). Try 50 values of `b` and 50 values of `m` (it should run in less than a second). For ease of reading, plot `np.log10` of the objective function."
      ]
    },
    {
      "cell_type": "code",
      "execution_count": null,
      "id": "kjGasX_9_P7u",
      "metadata": {
        "id": "kjGasX_9_P7u"
      },
      "outputs": [],
      "source": [
        "# your answer here"
      ]
    },
    {
      "cell_type": "markdown",
      "id": "Eod7OchiAHFs",
      "metadata": {
        "id": "Eod7OchiAHFs"
      },
      "source": [
        "**Exercise 5**\n",
        "\n",
        "From your grid search above, find the values of `m,b` that yield the lowest `simple_objective_function`. Plot the linear function using these parameters alongside the football data and your by-band linear function. Be sure to label your plot.\n",
        "\n",
        "Hint: try using `np.argmin`"
      ]
    },
    {
      "cell_type": "code",
      "execution_count": null,
      "id": "DRT7xjOUAY2M",
      "metadata": {
        "id": "DRT7xjOUAY2M"
      },
      "outputs": [],
      "source": [
        "# Your answer here"
      ]
    },
    {
      "cell_type": "markdown",
      "id": "01186f06",
      "metadata": {
        "id": "01186f06"
      },
      "source": [
        "## Fitting astronomical data"
      ]
    },
    {
      "cell_type": "markdown",
      "id": "a9lBjCpXGI7Z",
      "metadata": {
        "id": "a9lBjCpXGI7Z"
      },
      "source": [
        "Earlier, we looked at data from the Gaia space telescope. Gaia carefully observes the positions and properties of stars in our galaxy. The code below loads in the Gaia data for all stars within 15 parsec of the Sun."
      ]
    },
    {
      "cell_type": "code",
      "execution_count": 5,
      "id": "N--lnW26GIPv",
      "metadata": {
        "colab": {
          "base_uri": "https://localhost:8080/"
        },
        "id": "N--lnW26GIPv",
        "outputId": "5bd21241-4941-4c2b-ea49-cc77aa9c0bb6"
      },
      "outputs": [
        {
          "output_type": "stream",
          "name": "stdout",
          "text": [
            "Drive already mounted at /content/drive/; to attempt to forcibly remount, call drive.mount(\"/content/drive/\", force_remount=True).\n"
          ]
        }
      ],
      "source": [
        "# Let's load in the data\n",
        "import os\n",
        "from google.colab import drive\n",
        "drive.mount('/content/drive/')\n",
        "os.chdir('/content/drive/Shareddrives/AST207/data')\n",
        "\n",
        "# path to the table\n",
        "path = 'gaia_15pc.csv'\n",
        "\n",
        "# loading the table; this function assumes a 'comma separated file (aka csv)'\n",
        "gaia = pd.read_csv(path)\n",
        "\n",
        "# simple errors\n",
        "gaia.loc[:,'color']     = gaia.gmag - gaia.rmag\n",
        "gaia.loc[:,'color_err'] = 0.04\n",
        "gaia.loc[:,'teff_err']  = 10. # K"
      ]
    },
    {
      "cell_type": "markdown",
      "id": "q8wWsnWBHWI0",
      "metadata": {
        "id": "q8wWsnWBHWI0"
      },
      "source": [
        "**Exercise 6**\n",
        "\n",
        "In a previous activity, we searched for which properties of a star are correlated (like how football players heights and weights are correlated). Let's revisit that activity here. Below, plot `teff` versus `color` for the Gaia data (`teff` is the temperature of the star and `color` is the difference between the stars' `g` and `r` magnitudes). Be sure to label your plot."
      ]
    },
    {
      "cell_type": "code",
      "execution_count": null,
      "id": "412f662c-0aea-4eaf-b445-fc2a7a4326ca",
      "metadata": {
        "id": "412f662c-0aea-4eaf-b445-fc2a7a4326ca"
      },
      "outputs": [],
      "source": [
        "# Your plot here"
      ]
    },
    {
      "cell_type": "markdown",
      "id": "4f002006",
      "metadata": {
        "id": "4f002006"
      },
      "source": [
        "Cool! We have a clear observational result: color and temperature of a star are strongly correlated.\n",
        "\n",
        "However, we still don't know *how* color and temperature are related. Is the relation linear, quadratic, or perhaps much more complex? Answering this question will greatly increase our understanding of the stars in our catalog (it will also help our theorist friends try to *explain* what's happening here)."
      ]
    },
    {
      "cell_type": "markdown",
      "id": "ae31df59",
      "metadata": {
        "id": "ae31df59"
      },
      "source": [
        "**Exercise 7**\n",
        "\n",
        "Like we did for the football data, fit the `teff` and `color` data with a linear function. Use the \"grid search\" method we used for the football data. Try fitting the data by hand first to choose appropriate ranges of `m,b` to search.\n",
        "\n",
        "Print out the best fit `m,b` and plot the best-fit line against the observed data.\n",
        "\n",
        "Hint: the slope (`m`) will be small. Try `m = -1e-4` to start."
      ]
    },
    {
      "cell_type": "code",
      "execution_count": null,
      "id": "toBXyfAQKE23",
      "metadata": {
        "id": "toBXyfAQKE23"
      },
      "outputs": [],
      "source": [
        "# Your answer"
      ]
    },
    {
      "cell_type": "markdown",
      "id": "9ebrpV9BLnjt",
      "metadata": {
        "id": "9ebrpV9BLnjt"
      },
      "source": [
        "**We just fit a model to astronomical data!** This is a critical tool in modern astronomy. But so far, we can only find the best solution by a time consuming \"grid search.\" Let's find a better way.\n",
        "\n",
        "Many algorithms have been developed to find the parameters that minimize a function (our grid search is one example). Let's use `scipy.optimize.minimize`.\n",
        "\n",
        "**Exercise 8**\n",
        "\n",
        "Run the code below to use `scipy.optimize.minimize`. Then plot the best fit linear function from `scipy.optimize.minimize` alongside the observed data and your \"grid search\" fit."
      ]
    },
    {
      "cell_type": "code",
      "execution_count": null,
      "id": "8rPBrHG-K87c",
      "metadata": {
        "id": "8rPBrHG-K87c"
      },
      "outputs": [],
      "source": [
        "def general_objective_function(theta, fn, x, y):\n",
        "\n",
        "  y_model = fn(x,*theta)\n",
        "\n",
        "  return np.sum(np.power(y-y_model,2) / np.abs(y) )\n",
        "\n",
        "out = scipy.optimize.minimize(general_objective_function, [-1e-4, 2], bounds = [[-1e-3,0], [0,10]], args = (linear, gaia.teff, gaia.color) )\n",
        "m_fit, b_fit = out.x"
      ]
    },
    {
      "cell_type": "code",
      "execution_count": null,
      "id": "G8PcjWwNOxdI",
      "metadata": {
        "id": "G8PcjWwNOxdI"
      },
      "outputs": [],
      "source": [
        "# Your plot here"
      ]
    },
    {
      "cell_type": "code",
      "execution_count": null,
      "id": "ee5d91fa-d447-4a19-8482-4e0f665303f8",
      "metadata": {
        "id": "ee5d91fa-d447-4a19-8482-4e0f665303f8"
      },
      "outputs": [],
      "source": []
    },
    {
      "cell_type": "markdown",
      "id": "2G8wcrXBST5u",
      "metadata": {
        "id": "2G8wcrXBST5u"
      },
      "source": [
        "We can now perform a linear fit and even can do it quicky using `scipy`. However, the above plots show that a linear fit is not a great match to the data. So what is?\n",
        "\n",
        "Fortunately, `general_objective_function` (which we provided for the activity above) allows us to change the function we are fitting...\n",
        "\n",
        "**Exercise 9**\n",
        "\n",
        "Let's try a model where color is *inversely* proportional to temperature:\n",
        "$$ \\mathrm{color} = m / T + b $$\n",
        "Write a function `def inverse(x, m, b)` that returns the inverse function. Then use `scipy` to find the best fit parameters. Plot the best fit inverse function alongside the observed data and the best fit linear function.\n"
      ]
    },
    {
      "cell_type": "code",
      "execution_count": null,
      "id": "lrE-kqA2UTO3",
      "metadata": {
        "id": "lrE-kqA2UTO3"
      },
      "outputs": [],
      "source": [
        "def inverse(x, m, b):\n",
        "  # your code\n",
        "\n",
        "# use scipy to find the best fit parameters"
      ]
    },
    {
      "cell_type": "code",
      "execution_count": null,
      "id": "ozWFrg9OU01t",
      "metadata": {
        "id": "ozWFrg9OU01t"
      },
      "outputs": [],
      "source": [
        "# Your plot"
      ]
    }
  ],
  "metadata": {
    "colab": {
      "provenance": []
    },
    "kernelspec": {
      "display_name": "Python 3 (ipykernel)",
      "language": "python",
      "name": "python3"
    },
    "language_info": {
      "codemirror_mode": {
        "name": "ipython",
        "version": 3
      },
      "file_extension": ".py",
      "mimetype": "text/x-python",
      "name": "python",
      "nbconvert_exporter": "python",
      "pygments_lexer": "ipython3",
      "version": "3.11.9"
    }
  },
  "nbformat": 4,
  "nbformat_minor": 5
}